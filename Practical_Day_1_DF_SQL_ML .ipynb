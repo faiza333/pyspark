{
  "cells": [
    {
      "cell_type": "markdown",
      "id": "05f1e8db",
      "metadata": {
        "id": "05f1e8db"
      },
      "source": [
        "# **Labs 1 and 2 PySpark:**\n",
        "\n",
        "In these labs we will be using the \"[[NeurIPS 2020] Data Science for COVID-19 (DS4C)](https://www.kaggle.com/datasets/kimjihoo/coronavirusdataset?select=PatientInfo.csv)\" dataset, retrieved from [Kaggle](https://www.kaggle.com/) on 1/6/2022, for educational non commercial purpose, License\n",
        "[CC BY-NC-SA 4.0\n",
        "](https://creativecommons.org/licenses/by-nc-sa/4.0/)\n",
        "\n",
        "\n",
        "The csv file that we will be using in this lab is **PatientInfo**."
      ]
    },
    {
      "cell_type": "markdown",
      "id": "3ac9bbf0",
      "metadata": {
        "id": "3ac9bbf0"
      },
      "source": [
        "## PatientInfo.csv\n",
        "\n",
        "**patient_id**\n",
        "the ID of the patient\n",
        "\n",
        "**sex**\n",
        "the sex of the patient\n",
        "\n",
        "**age**\n",
        "the age of the patient\n",
        "\n",
        "**country**\n",
        "the country of the patient\n",
        "\n",
        "**province**\n",
        "the province of the patient\n",
        "\n",
        "**city**\n",
        "the city of the patient\n",
        "\n",
        "**infection_case**\n",
        "the case of infection\n",
        "\n",
        "**infected_by**\n",
        "the ID of who infected the patient\n",
        "\n",
        "\n",
        "**contact_number**\n",
        "the number of contacts with people\n",
        "\n",
        "**symptom_onset_date**\n",
        "the date of symptom onset\n",
        "\n",
        "**confirmed_date**\n",
        "the date of being confirmed\n",
        "\n",
        "**released_date**\n",
        "the date of being released\n",
        "\n",
        "**deceased_date**\n",
        "the date of being deceased\n",
        "\n",
        "**state**\n",
        "isolated / released / deceased"
      ]
    },
    {
      "cell_type": "markdown",
      "id": "34b6f619",
      "metadata": {
        "id": "34b6f619"
      },
      "source": [
        "### Import the pyspark and check it's version"
      ]
    },
    {
      "cell_type": "code",
      "source": [
        "! pip install pyspark"
      ],
      "metadata": {
        "colab": {
          "base_uri": "https://localhost:8080/"
        },
        "id": "ZSmhtDatqOVy",
        "outputId": "ea1df69f-8cec-49bb-9a91-4997903c7690"
      },
      "id": "ZSmhtDatqOVy",
      "execution_count": 2,
      "outputs": [
        {
          "output_type": "stream",
          "name": "stdout",
          "text": [
            "Looking in indexes: https://pypi.org/simple, https://us-python.pkg.dev/colab-wheels/public/simple/\n",
            "Collecting pyspark\n",
            "  Downloading pyspark-3.3.0.tar.gz (281.3 MB)\n",
            "\u001b[K     |████████████████████████████████| 281.3 MB 44 kB/s \n",
            "\u001b[?25hCollecting py4j==0.10.9.5\n",
            "  Downloading py4j-0.10.9.5-py2.py3-none-any.whl (199 kB)\n",
            "\u001b[K     |████████████████████████████████| 199 kB 55.2 MB/s \n",
            "\u001b[?25hBuilding wheels for collected packages: pyspark\n",
            "  Building wheel for pyspark (setup.py) ... \u001b[?25l\u001b[?25hdone\n",
            "  Created wheel for pyspark: filename=pyspark-3.3.0-py2.py3-none-any.whl size=281764026 sha256=cd7a2a4d27ffec4110cea637a34445c7dcba126f8285c0cb0635a714e402ab9b\n",
            "  Stored in directory: /root/.cache/pip/wheels/7a/8e/1b/f73a52650d2e5f337708d9f6a1750d451a7349a867f928b885\n",
            "Successfully built pyspark\n",
            "Installing collected packages: py4j, pyspark\n",
            "Successfully installed py4j-0.10.9.5 pyspark-3.3.0\n"
          ]
        }
      ]
    },
    {
      "cell_type": "code",
      "execution_count": 3,
      "id": "29fe2ddc",
      "metadata": {
        "id": "29fe2ddc"
      },
      "outputs": [],
      "source": [
        "\n",
        "from pyspark.sql import SparkSession\n",
        "spark = SparkSession.builder.getOrCreate()\n",
        "#ordinary important"
      ]
    },
    {
      "cell_type": "code",
      "execution_count": null,
      "id": "9127ad60-3c62-4537-b4c3-8dee4d7d689c",
      "metadata": {
        "colab": {
          "base_uri": "https://localhost:8080/",
          "height": 38
        },
        "id": "9127ad60-3c62-4537-b4c3-8dee4d7d689c",
        "outputId": "81250b1f-4990-4026-de01-25c3f4f8d241"
      },
      "outputs": [
        {
          "output_type": "execute_result",
          "data": {
            "text/plain": [
              "'3.3.0'"
            ],
            "application/vnd.google.colaboratory.intrinsic+json": {
              "type": "string"
            }
          },
          "metadata": {},
          "execution_count": 4
        }
      ],
      "source": [
        "spark.version"
      ]
    },
    {
      "cell_type": "markdown",
      "id": "70c0fc8e",
      "metadata": {
        "id": "70c0fc8e"
      },
      "source": [
        "### Import and create SparkSession"
      ]
    },
    {
      "cell_type": "markdown",
      "id": "7356d68d",
      "metadata": {
        "id": "7356d68d"
      },
      "source": [
        "### Load the PatientInfo.csv file and show the first 5 rows"
      ]
    },
    {
      "cell_type": "code",
      "execution_count": null,
      "id": "d5185728",
      "metadata": {
        "colab": {
          "base_uri": "https://localhost:8080/",
          "height": 17
        },
        "id": "d5185728",
        "outputId": "cc58894f-5a5f-45be-fbbe-4012b32235e9"
      },
      "outputs": [
        {
          "output_type": "display_data",
          "data": {
            "text/plain": [
              "<IPython.core.display.HTML object>"
            ],
            "text/html": [
              "<style>pre { white-space: pre !important; }</style>"
            ]
          },
          "metadata": {}
        }
      ],
      "source": [
        "from IPython.display import display, HTML\n",
        "display(HTML(\"<style>pre { white-space: pre !important; }</style>\"))"
      ]
    },
    {
      "cell_type": "code",
      "execution_count": null,
      "id": "2196bca5",
      "metadata": {
        "id": "2196bca5"
      },
      "outputs": [],
      "source": [
        "df = spark.read.csv('PatientInfo.csv',header=True,inferSchema=True)"
      ]
    },
    {
      "cell_type": "markdown",
      "id": "4d43bdca",
      "metadata": {
        "id": "4d43bdca"
      },
      "source": [
        "### Display the schema of the dataset"
      ]
    },
    {
      "cell_type": "code",
      "execution_count": null,
      "id": "c51a2507",
      "metadata": {
        "colab": {
          "base_uri": "https://localhost:8080/"
        },
        "id": "c51a2507",
        "outputId": "22eca7e1-6542-43c1-cff0-96d425058549"
      },
      "outputs": [
        {
          "output_type": "stream",
          "name": "stdout",
          "text": [
            "root\n",
            " |-- patient_id: long (nullable = true)\n",
            " |-- sex: string (nullable = true)\n",
            " |-- age: string (nullable = true)\n",
            " |-- country: string (nullable = true)\n",
            " |-- province: string (nullable = true)\n",
            " |-- city: string (nullable = true)\n",
            " |-- infection_case: string (nullable = true)\n",
            " |-- infected_by: string (nullable = true)\n",
            " |-- contact_number: string (nullable = true)\n",
            " |-- symptom_onset_date: string (nullable = true)\n",
            " |-- confirmed_date: timestamp (nullable = true)\n",
            " |-- released_date: timestamp (nullable = true)\n",
            " |-- deceased_date: timestamp (nullable = true)\n",
            " |-- state: string (nullable = true)\n",
            "\n"
          ]
        }
      ],
      "source": [
        "df.printSchema()"
      ]
    },
    {
      "cell_type": "markdown",
      "id": "3114e1dd",
      "metadata": {
        "id": "3114e1dd"
      },
      "source": [
        "### Display the statistical summary"
      ]
    },
    {
      "cell_type": "code",
      "execution_count": null,
      "id": "18d63947",
      "metadata": {
        "colab": {
          "base_uri": "https://localhost:8080/"
        },
        "id": "18d63947",
        "outputId": "1c3f229f-7191-4ee8-b778-65018e6e52d3"
      },
      "outputs": [
        {
          "output_type": "stream",
          "name": "stdout",
          "text": [
            "+-------+--------------------+------+----+----------+--------+--------------+--------------------+--------------------+--------------------+------------------+--------+\n",
            "|summary|          patient_id|   sex| age|   country|province|          city|      infection_case|         infected_by|      contact_number|symptom_onset_date|   state|\n",
            "+-------+--------------------+------+----+----------+--------+--------------+--------------------+--------------------+--------------------+------------------+--------+\n",
            "|  count|                5165|  4043|3785|      5165|    5165|          5071|                4246|                1346|                 791|               690|    5165|\n",
            "|   mean|2.8636345618679576E9|  null|null|      null|    null|          null|                null|2.2845944015643125E9|1.6772572523506988E7|              null|    null|\n",
            "| stddev| 2.074210725277473E9|  null|null|      null|    null|          null|                null|1.5265072953383324E9| 3.093097580985502E8|              null|    null|\n",
            "|    min|          1000000001|female|  0s|Bangladesh|   Busan|     Andong-si|Anyang Gunpo Past...|          1000000002|                   -|                  |deceased|\n",
            "|    max|          7000000019|  male| 90s|   Vietnam|   Ulsan|sankyeock-dong|     overseas inflow|          7000000009|                  95|        2020-06-28|released|\n",
            "+-------+--------------------+------+----+----------+--------+--------------+--------------------+--------------------+--------------------+------------------+--------+\n",
            "\n"
          ]
        }
      ],
      "source": [
        "df.describe().show()"
      ]
    },
    {
      "cell_type": "markdown",
      "id": "c78859b9",
      "metadata": {
        "id": "c78859b9"
      },
      "source": [
        "### Using the state column.\n",
        "### How many people survived (released), and how many didn't survive (isolated/deceased)?"
      ]
    },
    {
      "cell_type": "code",
      "execution_count": null,
      "id": "aae52861-19fe-44b9-a2ed-5bd298e6fa48",
      "metadata": {
        "id": "aae52861-19fe-44b9-a2ed-5bd298e6fa48"
      },
      "outputs": [],
      "source": [
        "# df.createOrReplaceTempView('table1')"
      ]
    },
    {
      "cell_type": "code",
      "execution_count": null,
      "id": "63e84045",
      "metadata": {
        "colab": {
          "base_uri": "https://localhost:8080/"
        },
        "id": "63e84045",
        "outputId": "a71d706d-ecbf-4610-f3d8-fb7f84ad41e3"
      },
      "outputs": [
        {
          "output_type": "stream",
          "name": "stdout",
          "text": [
            "+--------+-----+\n",
            "|   state|count|\n",
            "+--------+-----+\n",
            "|isolated| 2158|\n",
            "|released| 2929|\n",
            "|deceased|   78|\n",
            "+--------+-----+\n",
            "\n"
          ]
        }
      ],
      "source": [
        "df.groupBy(\"state\").count().show()\n",
        "#spark.sql(\"select count(state) from table1 where state = 'released' \").show()\n"
      ]
    },
    {
      "cell_type": "markdown",
      "id": "59c16346",
      "metadata": {
        "id": "59c16346"
      },
      "source": [
        "### Display the number of null values in each column"
      ]
    },
    {
      "cell_type": "code",
      "execution_count": null,
      "id": "4adc0ab6",
      "metadata": {
        "colab": {
          "base_uri": "https://localhost:8080/"
        },
        "id": "4adc0ab6",
        "outputId": "052ac1fd-407b-43bd-b1b0-dcb6346ce820"
      },
      "outputs": [
        {
          "output_type": "stream",
          "name": "stdout",
          "text": [
            "+----------+----+----+-------+--------+----+--------------+-----------+--------------+------------------+--------------+-------------+-------------+-----+\n",
            "|patient_id| sex| age|country|province|city|infection_case|infected_by|contact_number|symptom_onset_date|confirmed_date|released_date|deceased_date|state|\n",
            "+----------+----+----+-------+--------+----+--------------+-----------+--------------+------------------+--------------+-------------+-------------+-----+\n",
            "|         0|1122|1380|      0|       0|  94|           919|       3819|          4374|              4475|             3|         3578|         5099|    0|\n",
            "+----------+----+----+-------+--------+----+--------------+-----------+--------------+------------------+--------------+-------------+-------------+-----+\n",
            "\n"
          ]
        }
      ],
      "source": [
        "# spark.sql(\"SELECT COUNT(IFNULL(col, 1)) FROM table1\").show()\n",
        "#spark.sql(\"select count(state) from table1 where state != 'released' \").show()\n",
        "# Find Count of Null, None, NaN of All DataFrame Columns\n",
        "from pyspark.sql.functions import col,isnan, when, count\n",
        "df.select([count(when(col(c).isNull(), c)).alias(c) for c in df.columns]).show()"
      ]
    },
    {
      "cell_type": "markdown",
      "id": "c3133f5a",
      "metadata": {
        "id": "c3133f5a"
      },
      "source": [
        "## Data preprocessing"
      ]
    },
    {
      "cell_type": "markdown",
      "id": "ec32fa0c",
      "metadata": {
        "id": "ec32fa0c"
      },
      "source": [
        "### Fill the nulls in the deceased_date with the released_date. \n",
        "- You can use <b>coalesce</b> function"
      ]
    },
    {
      "cell_type": "code",
      "execution_count": null,
      "id": "d5ba64f9",
      "metadata": {
        "colab": {
          "base_uri": "https://localhost:8080/"
        },
        "id": "d5ba64f9",
        "outputId": "479e8063-dad6-4989-edea-d9da1bfd11f7"
      },
      "outputs": [
        {
          "output_type": "stream",
          "name": "stdout",
          "text": [
            "+----------+------+---+-------+--------+------------+--------------------+-----------+--------------+------------------+-------------------+-------------------+-------------------+--------+\n",
            "|patient_id|   sex|age|country|province|        city|      infection_case|infected_by|contact_number|symptom_onset_date|     confirmed_date|      released_date|      deceased_date|   state|\n",
            "+----------+------+---+-------+--------+------------+--------------------+-----------+--------------+------------------+-------------------+-------------------+-------------------+--------+\n",
            "|1000000001|  male|50s|  Korea|   Seoul|  Gangseo-gu|     overseas inflow|       null|            75|        2020-01-22|2020-01-23 00:00:00|2020-02-05 00:00:00|2020-02-05 00:00:00|released|\n",
            "|1000000002|  male|30s|  Korea|   Seoul| Jungnang-gu|     overseas inflow|       null|            31|              null|2020-01-30 00:00:00|2020-03-02 00:00:00|2020-03-02 00:00:00|released|\n",
            "|1000000003|  male|50s|  Korea|   Seoul|   Jongno-gu|contact with patient| 2002000001|            17|              null|2020-01-30 00:00:00|2020-02-19 00:00:00|2020-02-19 00:00:00|released|\n",
            "|1000000004|  male|20s|  Korea|   Seoul|     Mapo-gu|     overseas inflow|       null|             9|        2020-01-26|2020-01-30 00:00:00|2020-02-15 00:00:00|2020-02-15 00:00:00|released|\n",
            "|1000000005|female|20s|  Korea|   Seoul| Seongbuk-gu|contact with patient| 1000000002|             2|              null|2020-01-31 00:00:00|2020-02-24 00:00:00|2020-02-24 00:00:00|released|\n",
            "|1000000006|female|50s|  Korea|   Seoul|   Jongno-gu|contact with patient| 1000000003|            43|              null|2020-01-31 00:00:00|2020-02-19 00:00:00|2020-02-19 00:00:00|released|\n",
            "|1000000007|  male|20s|  Korea|   Seoul|   Jongno-gu|contact with patient| 1000000003|             0|              null|2020-01-31 00:00:00|2020-02-10 00:00:00|2020-02-10 00:00:00|released|\n",
            "|1000000008|  male|20s|  Korea|   Seoul|         etc|     overseas inflow|       null|             0|              null|2020-02-02 00:00:00|2020-02-24 00:00:00|2020-02-24 00:00:00|released|\n",
            "|1000000009|  male|30s|  Korea|   Seoul|   Songpa-gu|     overseas inflow|       null|            68|              null|2020-02-05 00:00:00|2020-02-21 00:00:00|2020-02-21 00:00:00|released|\n",
            "|1000000010|female|60s|  Korea|   Seoul| Seongbuk-gu|contact with patient| 1000000003|             6|              null|2020-02-05 00:00:00|2020-02-29 00:00:00|2020-02-29 00:00:00|released|\n",
            "|1000000011|female|50s|  China|   Seoul|Seodaemun-gu|     overseas inflow|       null|            23|              null|2020-02-06 00:00:00|2020-02-29 00:00:00|2020-02-29 00:00:00|released|\n",
            "|1000000012|  male|20s|  Korea|   Seoul|         etc|     overseas inflow|       null|             0|              null|2020-02-07 00:00:00|2020-02-27 00:00:00|2020-02-27 00:00:00|released|\n",
            "|1000000013|  male|80s|  Korea|   Seoul|   Jongno-gu|contact with patient| 1000000017|           117|              null|2020-02-16 00:00:00|               null|               null|deceased|\n",
            "|1000000014|female|60s|  Korea|   Seoul|   Jongno-gu|contact with patient| 1000000013|            27|        2020-02-06|2020-02-16 00:00:00|2020-03-12 00:00:00|2020-03-12 00:00:00|released|\n",
            "|1000000015|  male|70s|  Korea|   Seoul|Seongdong-gu|    Seongdong-gu APT|       null|             8|        2020-02-11|2020-02-19 00:00:00|               null|               null|released|\n",
            "|1000000016|  male|70s|  Korea|   Seoul|   Jongno-gu|contact with patient| 1000000017|          null|              null|2020-02-19 00:00:00|2020-03-11 00:00:00|2020-03-11 00:00:00|released|\n",
            "|1000000017|  male|70s|  Korea|   Seoul|   Jongno-gu|contact with patient| 1000000003|          null|              null|2020-02-20 00:00:00|2020-03-01 00:00:00|2020-03-01 00:00:00|released|\n",
            "|1000000018|  male|20s|  Korea|   Seoul|         etc|                 etc|       null|          null|              null|2020-02-20 00:00:00|               null|               null|released|\n",
            "|1000000019|female|70s|  Korea|   Seoul|   Jongno-gu|contact with patient| 1000000021|          null|              null|2020-02-20 00:00:00|2020-03-08 00:00:00|2020-03-08 00:00:00|released|\n",
            "|1000000020|female|70s|  Korea|   Seoul|Seongdong-gu|    Seongdong-gu APT| 1000000015|          null|              null|2020-02-20 00:00:00|               null|               null|released|\n",
            "+----------+------+---+-------+--------+------------+--------------------+-----------+--------------+------------------+-------------------+-------------------+-------------------+--------+\n",
            "only showing top 20 rows\n",
            "\n"
          ]
        }
      ],
      "source": [
        "#PySpark Coalesce is a function in PySpark that is used to work with the partition data in a PySpark DF\n",
        "#The Coalesce method is used to decrease the number of partition in a Data Frame\n",
        "# from spark import coalesce\n",
        "from pyspark.sql.types import FloatType\n",
        "from pyspark.sql.functions import *\n",
        "df = df.withColumn('deceased_date', coalesce(df['released_date'], df['deceased_date']))\n",
        "df.show()\n",
        "#coalesce(df['deceased_date'], df['released_date'])"
      ]
    },
    {
      "cell_type": "code",
      "execution_count": null,
      "id": "480542ad-a7c7-4ba6-876a-e380734d9bcc",
      "metadata": {
        "id": "480542ad-a7c7-4ba6-876a-e380734d9bcc"
      },
      "outputs": [],
      "source": [
        "# #deal with the null values in deceased_date\n",
        "# df.na.fill(\"released_date\",\"deceased_date\").show()"
      ]
    },
    {
      "cell_type": "markdown",
      "id": "4ec324f5",
      "metadata": {
        "id": "4ec324f5"
      },
      "source": [
        "### Add a column named no_days which is difference between the deceased_date and the confirmed_date then show the top 5 rows. Print the schema.\n",
        "- <b> Hint: You need to typecast these columns as date first <b>"
      ]
    },
    {
      "cell_type": "code",
      "execution_count": null,
      "id": "2d3a01cf-1d07-4021-8d07-877980882676",
      "metadata": {
        "id": "2d3a01cf-1d07-4021-8d07-877980882676"
      },
      "outputs": [],
      "source": [
        "from pyspark.sql.types import DateType\n",
        "df = df.withColumn(\"deceased_date\",col(\"deceased_date\").cast(DateType()))\n",
        "df = df.withColumn(\"confirmed_date\",col(\"confirmed_date\").cast(DateType()))"
      ]
    },
    {
      "cell_type": "code",
      "source": [
        "df.select(\"deceased_date\").show()"
      ],
      "metadata": {
        "colab": {
          "base_uri": "https://localhost:8080/"
        },
        "id": "UXzCDpxA56V9",
        "outputId": "1013b7c7-a4f5-474e-842c-ccce45b51828"
      },
      "id": "UXzCDpxA56V9",
      "execution_count": null,
      "outputs": [
        {
          "output_type": "stream",
          "name": "stdout",
          "text": [
            "+-------------+\n",
            "|deceased_date|\n",
            "+-------------+\n",
            "|   2020-02-05|\n",
            "|   2020-03-02|\n",
            "|   2020-02-19|\n",
            "|   2020-02-15|\n",
            "|   2020-02-24|\n",
            "|   2020-02-19|\n",
            "|   2020-02-10|\n",
            "|   2020-02-24|\n",
            "|   2020-02-21|\n",
            "|   2020-02-29|\n",
            "|   2020-02-29|\n",
            "|   2020-02-27|\n",
            "|         null|\n",
            "|   2020-03-12|\n",
            "|         null|\n",
            "|   2020-03-11|\n",
            "|   2020-03-01|\n",
            "|         null|\n",
            "|   2020-03-08|\n",
            "|         null|\n",
            "+-------------+\n",
            "only showing top 20 rows\n",
            "\n"
          ]
        }
      ]
    },
    {
      "cell_type": "code",
      "execution_count": null,
      "id": "d065e472",
      "metadata": {
        "colab": {
          "base_uri": "https://localhost:8080/"
        },
        "id": "d065e472",
        "outputId": "7f63e833-306a-40aa-95fa-4e6656c3e336"
      },
      "outputs": [
        {
          "output_type": "stream",
          "name": "stdout",
          "text": [
            "+----------+------+---+-------+--------+------------+--------------------+-----------+--------------+------------------+--------------+-------------------+-------------+--------+-------+-------+\n",
            "|patient_id|sex   |age|country|province|city        |infection_case      |infected_by|contact_number|symptom_onset_date|confirmed_date|released_date      |deceased_date|state   |no_days|is_male|\n",
            "+----------+------+---+-------+--------+------------+--------------------+-----------+--------------+------------------+--------------+-------------------+-------------+--------+-------+-------+\n",
            "|1000000001|male  |50s|Korea  |Seoul   |Gangseo-gu  |overseas inflow     |null       |75            |2020-01-22        |2020-01-23    |2020-02-05 00:00:00|2020-02-05   |released|13     |true   |\n",
            "|1000000002|male  |30s|Korea  |Seoul   |Jungnang-gu |overseas inflow     |null       |31            |null              |2020-01-30    |2020-03-02 00:00:00|2020-03-02   |released|32     |true   |\n",
            "|1000000003|male  |50s|Korea  |Seoul   |Jongno-gu   |contact with patient|2002000001 |17            |null              |2020-01-30    |2020-02-19 00:00:00|2020-02-19   |released|20     |true   |\n",
            "|1000000004|male  |20s|Korea  |Seoul   |Mapo-gu     |overseas inflow     |null       |9             |2020-01-26        |2020-01-30    |2020-02-15 00:00:00|2020-02-15   |released|16     |true   |\n",
            "|1000000005|female|20s|Korea  |Seoul   |Seongbuk-gu |contact with patient|1000000002 |2             |null              |2020-01-31    |2020-02-24 00:00:00|2020-02-24   |released|24     |false  |\n",
            "|1000000006|female|50s|Korea  |Seoul   |Jongno-gu   |contact with patient|1000000003 |43            |null              |2020-01-31    |2020-02-19 00:00:00|2020-02-19   |released|19     |false  |\n",
            "|1000000007|male  |20s|Korea  |Seoul   |Jongno-gu   |contact with patient|1000000003 |0             |null              |2020-01-31    |2020-02-10 00:00:00|2020-02-10   |released|10     |true   |\n",
            "|1000000008|male  |20s|Korea  |Seoul   |etc         |overseas inflow     |null       |0             |null              |2020-02-02    |2020-02-24 00:00:00|2020-02-24   |released|22     |true   |\n",
            "|1000000009|male  |30s|Korea  |Seoul   |Songpa-gu   |overseas inflow     |null       |68            |null              |2020-02-05    |2020-02-21 00:00:00|2020-02-21   |released|16     |true   |\n",
            "|1000000010|female|60s|Korea  |Seoul   |Seongbuk-gu |contact with patient|1000000003 |6             |null              |2020-02-05    |2020-02-29 00:00:00|2020-02-29   |released|24     |false  |\n",
            "|1000000011|female|50s|China  |Seoul   |Seodaemun-gu|overseas inflow     |null       |23            |null              |2020-02-06    |2020-02-29 00:00:00|2020-02-29   |released|23     |false  |\n",
            "|1000000012|male  |20s|Korea  |Seoul   |etc         |overseas inflow     |null       |0             |null              |2020-02-07    |2020-02-27 00:00:00|2020-02-27   |released|20     |true   |\n",
            "|1000000013|male  |80s|Korea  |Seoul   |Jongno-gu   |contact with patient|1000000017 |117           |null              |2020-02-16    |null               |null         |deceased|null   |true   |\n",
            "|1000000014|female|60s|Korea  |Seoul   |Jongno-gu   |contact with patient|1000000013 |27            |2020-02-06        |2020-02-16    |2020-03-12 00:00:00|2020-03-12   |released|25     |false  |\n",
            "|1000000015|male  |70s|Korea  |Seoul   |Seongdong-gu|Seongdong-gu APT    |null       |8             |2020-02-11        |2020-02-19    |null               |null         |released|null   |true   |\n",
            "|1000000016|male  |70s|Korea  |Seoul   |Jongno-gu   |contact with patient|1000000017 |null          |null              |2020-02-19    |2020-03-11 00:00:00|2020-03-11   |released|21     |true   |\n",
            "|1000000017|male  |70s|Korea  |Seoul   |Jongno-gu   |contact with patient|1000000003 |null          |null              |2020-02-20    |2020-03-01 00:00:00|2020-03-01   |released|10     |true   |\n",
            "|1000000018|male  |20s|Korea  |Seoul   |etc         |etc                 |null       |null          |null              |2020-02-20    |null               |null         |released|null   |true   |\n",
            "|1000000019|female|70s|Korea  |Seoul   |Jongno-gu   |contact with patient|1000000021 |null          |null              |2020-02-20    |2020-03-08 00:00:00|2020-03-08   |released|17     |false  |\n",
            "|1000000020|female|70s|Korea  |Seoul   |Seongdong-gu|Seongdong-gu APT    |1000000015 |null          |null              |2020-02-20    |null               |null         |released|null   |false  |\n",
            "+----------+------+---+-------+--------+------------+--------------------+-----------+--------------+------------------+--------------+-------------------+-------------+--------+-------+-------+\n",
            "only showing top 20 rows\n",
            "\n"
          ]
        }
      ],
      "source": [
        "\n",
        "df =df.withColumn(\"no_days\", datediff(col(\"deceased_date\"),col(\"confirmed_date\")))\n",
        "df = df.withColumn(\"is_male\",(when(col(\"sex\") == 'male', 'true').otherwise('false')))\n",
        "# df.withColumn(\"no_days\", df['deceased_date']- df['confirmed_date']).show()\n",
        "# cola = tmp.n\n",
        "df.show(truncate=False)"
      ]
    },
    {
      "cell_type": "markdown",
      "id": "967b2466",
      "metadata": {
        "id": "967b2466"
      },
      "source": [
        "### Add a is_male column if male then it should yield true, else then False"
      ]
    },
    {
      "cell_type": "code",
      "execution_count": null,
      "id": "8efe03b5",
      "metadata": {
        "id": "8efe03b5"
      },
      "outputs": [],
      "source": [
        "#df = df.withColumn(\"is_male\",(when(col(\"sex\") == 'male', 'true').otherwise('false'))).show()"
      ]
    },
    {
      "cell_type": "markdown",
      "id": "8603d7c0",
      "metadata": {
        "id": "8603d7c0"
      },
      "source": [
        "### Add a is_dead column if patient state is not released then it should yield true, else then False\n",
        "\n",
        "- Use <b>UDF</b> to perform this task. \n",
        "- However, UDF is not recommended there is no built in function can do the required operation.\n",
        "- UDF is slower than built in functions."
      ]
    },
    {
      "cell_type": "code",
      "source": [
        "def state_change(state):\n",
        "  s = False\n",
        "  if s != 'released':\n",
        "    s = True\n",
        "  return s\n",
        "  \n"
      ],
      "metadata": {
        "id": "vGAtw358A3dv"
      },
      "id": "vGAtw358A3dv",
      "execution_count": null,
      "outputs": []
    },
    {
      "cell_type": "code",
      "source": [
        "from os import stat\n",
        "from pyspark.sql.functions import udf\n",
        "from pyspark.sql.types import StringType\n",
        "#StringType” is used to represent string values, To create a string type use either DataTypes.StringType or\n",
        "# StringType(), both of these returns object of String type.\n",
        "udf_1 = udf(lambda state: state_change(state),StringType())"
      ],
      "metadata": {
        "id": "_xP-SFa5Bl2i"
      },
      "id": "_xP-SFa5Bl2i",
      "execution_count": null,
      "outputs": []
    },
    {
      "cell_type": "code",
      "execution_count": null,
      "id": "d3343075",
      "metadata": {
        "colab": {
          "base_uri": "https://localhost:8080/"
        },
        "id": "d3343075",
        "outputId": "b8b85722-222d-4e3c-b93e-504f16bc156e"
      },
      "outputs": [
        {
          "output_type": "stream",
          "name": "stdout",
          "text": [
            "+----------+------+---+-------+--------+------------+--------------------+-----------+--------------+------------------+--------------+-------------------+-------------+--------+-------+-------+-------+\n",
            "|patient_id|sex   |age|country|province|city        |infection_case      |infected_by|contact_number|symptom_onset_date|confirmed_date|released_date      |deceased_date|state   |no_days|is_male|is_dead|\n",
            "+----------+------+---+-------+--------+------------+--------------------+-----------+--------------+------------------+--------------+-------------------+-------------+--------+-------+-------+-------+\n",
            "|1000000001|male  |50s|Korea  |Seoul   |Gangseo-gu  |overseas inflow     |null       |75            |2020-01-22        |2020-01-23    |2020-02-05 00:00:00|2020-02-05   |released|13     |true   |true   |\n",
            "|1000000002|male  |30s|Korea  |Seoul   |Jungnang-gu |overseas inflow     |null       |31            |null              |2020-01-30    |2020-03-02 00:00:00|2020-03-02   |released|32     |true   |true   |\n",
            "|1000000003|male  |50s|Korea  |Seoul   |Jongno-gu   |contact with patient|2002000001 |17            |null              |2020-01-30    |2020-02-19 00:00:00|2020-02-19   |released|20     |true   |true   |\n",
            "|1000000004|male  |20s|Korea  |Seoul   |Mapo-gu     |overseas inflow     |null       |9             |2020-01-26        |2020-01-30    |2020-02-15 00:00:00|2020-02-15   |released|16     |true   |true   |\n",
            "|1000000005|female|20s|Korea  |Seoul   |Seongbuk-gu |contact with patient|1000000002 |2             |null              |2020-01-31    |2020-02-24 00:00:00|2020-02-24   |released|24     |false  |true   |\n",
            "|1000000006|female|50s|Korea  |Seoul   |Jongno-gu   |contact with patient|1000000003 |43            |null              |2020-01-31    |2020-02-19 00:00:00|2020-02-19   |released|19     |false  |true   |\n",
            "|1000000007|male  |20s|Korea  |Seoul   |Jongno-gu   |contact with patient|1000000003 |0             |null              |2020-01-31    |2020-02-10 00:00:00|2020-02-10   |released|10     |true   |true   |\n",
            "|1000000008|male  |20s|Korea  |Seoul   |etc         |overseas inflow     |null       |0             |null              |2020-02-02    |2020-02-24 00:00:00|2020-02-24   |released|22     |true   |true   |\n",
            "|1000000009|male  |30s|Korea  |Seoul   |Songpa-gu   |overseas inflow     |null       |68            |null              |2020-02-05    |2020-02-21 00:00:00|2020-02-21   |released|16     |true   |true   |\n",
            "|1000000010|female|60s|Korea  |Seoul   |Seongbuk-gu |contact with patient|1000000003 |6             |null              |2020-02-05    |2020-02-29 00:00:00|2020-02-29   |released|24     |false  |true   |\n",
            "|1000000011|female|50s|China  |Seoul   |Seodaemun-gu|overseas inflow     |null       |23            |null              |2020-02-06    |2020-02-29 00:00:00|2020-02-29   |released|23     |false  |true   |\n",
            "|1000000012|male  |20s|Korea  |Seoul   |etc         |overseas inflow     |null       |0             |null              |2020-02-07    |2020-02-27 00:00:00|2020-02-27   |released|20     |true   |true   |\n",
            "|1000000013|male  |80s|Korea  |Seoul   |Jongno-gu   |contact with patient|1000000017 |117           |null              |2020-02-16    |null               |null         |deceased|null   |true   |true   |\n",
            "|1000000014|female|60s|Korea  |Seoul   |Jongno-gu   |contact with patient|1000000013 |27            |2020-02-06        |2020-02-16    |2020-03-12 00:00:00|2020-03-12   |released|25     |false  |true   |\n",
            "|1000000015|male  |70s|Korea  |Seoul   |Seongdong-gu|Seongdong-gu APT    |null       |8             |2020-02-11        |2020-02-19    |null               |null         |released|null   |true   |true   |\n",
            "|1000000016|male  |70s|Korea  |Seoul   |Jongno-gu   |contact with patient|1000000017 |null          |null              |2020-02-19    |2020-03-11 00:00:00|2020-03-11   |released|21     |true   |true   |\n",
            "|1000000017|male  |70s|Korea  |Seoul   |Jongno-gu   |contact with patient|1000000003 |null          |null              |2020-02-20    |2020-03-01 00:00:00|2020-03-01   |released|10     |true   |true   |\n",
            "|1000000018|male  |20s|Korea  |Seoul   |etc         |etc                 |null       |null          |null              |2020-02-20    |null               |null         |released|null   |true   |true   |\n",
            "|1000000019|female|70s|Korea  |Seoul   |Jongno-gu   |contact with patient|1000000021 |null          |null              |2020-02-20    |2020-03-08 00:00:00|2020-03-08   |released|17     |false  |true   |\n",
            "|1000000020|female|70s|Korea  |Seoul   |Seongdong-gu|Seongdong-gu APT    |1000000015 |null          |null              |2020-02-20    |null               |null         |released|null   |false  |true   |\n",
            "+----------+------+---+-------+--------+------------+--------------------+-----------+--------------+------------------+--------------+-------------------+-------------+--------+-------+-------+-------+\n",
            "only showing top 20 rows\n",
            "\n"
          ]
        }
      ],
      "source": [
        "from pyspark.sql.functions import udf\n",
        "df =df.withColumn(\"is_dead\",(udf_1(col('state'))))\n",
        "df.show(truncate=False)"
      ]
    },
    {
      "cell_type": "markdown",
      "id": "e15264a9",
      "metadata": {
        "id": "e15264a9"
      },
      "source": [
        "### Change the ages to bins from 10s, 0s, 10s, 20s,.etc to 0,10, 20"
      ]
    },
    {
      "cell_type": "code",
      "execution_count": null,
      "id": "7a2b57ed",
      "metadata": {
        "colab": {
          "base_uri": "https://localhost:8080/"
        },
        "id": "7a2b57ed",
        "outputId": "01f1e2a4-f624-4755-e4b7-7add0f22e0b5"
      },
      "outputs": [
        {
          "output_type": "stream",
          "name": "stdout",
          "text": [
            "+----------+------+---+-------+--------+------------+--------------------+-----------+--------------+------------------+--------------+-------------------+-------------+--------+-------+-------+-------+\n",
            "|patient_id|   sex|age|country|province|        city|      infection_case|infected_by|contact_number|symptom_onset_date|confirmed_date|      released_date|deceased_date|   state|no_days|is_male|is_dead|\n",
            "+----------+------+---+-------+--------+------------+--------------------+-----------+--------------+------------------+--------------+-------------------+-------------+--------+-------+-------+-------+\n",
            "|1000000001|  male| 50|  Korea|   Seoul|  Gangseo-gu|     overseas inflow|       null|            75|        2020-01-22|    2020-01-23|2020-02-05 00:00:00|   2020-02-05|released|     13|   true|   true|\n",
            "|1000000002|  male| 30|  Korea|   Seoul| Jungnang-gu|     overseas inflow|       null|            31|              null|    2020-01-30|2020-03-02 00:00:00|   2020-03-02|released|     32|   true|   true|\n",
            "|1000000003|  male| 50|  Korea|   Seoul|   Jongno-gu|contact with patient| 2002000001|            17|              null|    2020-01-30|2020-02-19 00:00:00|   2020-02-19|released|     20|   true|   true|\n",
            "|1000000004|  male| 20|  Korea|   Seoul|     Mapo-gu|     overseas inflow|       null|             9|        2020-01-26|    2020-01-30|2020-02-15 00:00:00|   2020-02-15|released|     16|   true|   true|\n",
            "|1000000005|female| 20|  Korea|   Seoul| Seongbuk-gu|contact with patient| 1000000002|             2|              null|    2020-01-31|2020-02-24 00:00:00|   2020-02-24|released|     24|  false|   true|\n",
            "|1000000006|female| 50|  Korea|   Seoul|   Jongno-gu|contact with patient| 1000000003|            43|              null|    2020-01-31|2020-02-19 00:00:00|   2020-02-19|released|     19|  false|   true|\n",
            "|1000000007|  male| 20|  Korea|   Seoul|   Jongno-gu|contact with patient| 1000000003|             0|              null|    2020-01-31|2020-02-10 00:00:00|   2020-02-10|released|     10|   true|   true|\n",
            "|1000000008|  male| 20|  Korea|   Seoul|         etc|     overseas inflow|       null|             0|              null|    2020-02-02|2020-02-24 00:00:00|   2020-02-24|released|     22|   true|   true|\n",
            "|1000000009|  male| 30|  Korea|   Seoul|   Songpa-gu|     overseas inflow|       null|            68|              null|    2020-02-05|2020-02-21 00:00:00|   2020-02-21|released|     16|   true|   true|\n",
            "|1000000010|female| 60|  Korea|   Seoul| Seongbuk-gu|contact with patient| 1000000003|             6|              null|    2020-02-05|2020-02-29 00:00:00|   2020-02-29|released|     24|  false|   true|\n",
            "|1000000011|female| 50|  China|   Seoul|Seodaemun-gu|     overseas inflow|       null|            23|              null|    2020-02-06|2020-02-29 00:00:00|   2020-02-29|released|     23|  false|   true|\n",
            "|1000000012|  male| 20|  Korea|   Seoul|         etc|     overseas inflow|       null|             0|              null|    2020-02-07|2020-02-27 00:00:00|   2020-02-27|released|     20|   true|   true|\n",
            "|1000000013|  male| 80|  Korea|   Seoul|   Jongno-gu|contact with patient| 1000000017|           117|              null|    2020-02-16|               null|         null|deceased|   null|   true|   true|\n",
            "|1000000014|female| 60|  Korea|   Seoul|   Jongno-gu|contact with patient| 1000000013|            27|        2020-02-06|    2020-02-16|2020-03-12 00:00:00|   2020-03-12|released|     25|  false|   true|\n",
            "|1000000015|  male| 70|  Korea|   Seoul|Seongdong-gu|    Seongdong-gu APT|       null|             8|        2020-02-11|    2020-02-19|               null|         null|released|   null|   true|   true|\n",
            "|1000000016|  male| 70|  Korea|   Seoul|   Jongno-gu|contact with patient| 1000000017|          null|              null|    2020-02-19|2020-03-11 00:00:00|   2020-03-11|released|     21|   true|   true|\n",
            "|1000000017|  male| 70|  Korea|   Seoul|   Jongno-gu|contact with patient| 1000000003|          null|              null|    2020-02-20|2020-03-01 00:00:00|   2020-03-01|released|     10|   true|   true|\n",
            "|1000000018|  male| 20|  Korea|   Seoul|         etc|                 etc|       null|          null|              null|    2020-02-20|               null|         null|released|   null|   true|   true|\n",
            "|1000000019|female| 70|  Korea|   Seoul|   Jongno-gu|contact with patient| 1000000021|          null|              null|    2020-02-20|2020-03-08 00:00:00|   2020-03-08|released|     17|  false|   true|\n",
            "|1000000020|female| 70|  Korea|   Seoul|Seongdong-gu|    Seongdong-gu APT| 1000000015|          null|              null|    2020-02-20|               null|         null|released|   null|  false|   true|\n",
            "+----------+------+---+-------+--------+------------+--------------------+-----------+--------------+------------------+--------------+-------------------+-------------+--------+-------+-------+-------+\n",
            "only showing top 20 rows\n",
            "\n"
          ]
        }
      ],
      "source": [
        "from pyspark.sql.functions import translate\n",
        "from pyspark.sql.types import IntegerType\n",
        "#translate is used to literally translate one character table to another character table. It doesn't care about the context,\n",
        "#it doesn't use regular expressions, it only considers the character at hand\n",
        "df = df.withColumn('age', translate('age','s',''))\n",
        "df.show()"
      ]
    },
    {
      "cell_type": "markdown",
      "id": "43cdf846",
      "metadata": {
        "id": "43cdf846"
      },
      "source": [
        "### Change age, and no_days  to be typecasted as Double"
      ]
    },
    {
      "cell_type": "code",
      "execution_count": null,
      "id": "dfea7fcb",
      "metadata": {
        "id": "dfea7fcb"
      },
      "outputs": [],
      "source": [
        "from pyspark.sql.types import IntegerType , DoubleType\n",
        "df = df.withColumn('age', col('age').cast(DoubleType()))\n",
        "df = df.withColumn('no_days', col('no_days').cast(DoubleType()))"
      ]
    },
    {
      "cell_type": "code",
      "source": [
        "df.select(\"age\",\"no_days\").show()"
      ],
      "metadata": {
        "colab": {
          "base_uri": "https://localhost:8080/"
        },
        "id": "VReWRp1wGlyB",
        "outputId": "232188a5-b966-4a68-f025-67da212e3f8f"
      },
      "id": "VReWRp1wGlyB",
      "execution_count": null,
      "outputs": [
        {
          "output_type": "stream",
          "name": "stdout",
          "text": [
            "+----+-------+\n",
            "| age|no_days|\n",
            "+----+-------+\n",
            "|50.0|   13.0|\n",
            "|30.0|   32.0|\n",
            "|50.0|   20.0|\n",
            "|20.0|   16.0|\n",
            "|20.0|   24.0|\n",
            "|50.0|   19.0|\n",
            "|20.0|   10.0|\n",
            "|20.0|   22.0|\n",
            "|30.0|   16.0|\n",
            "|60.0|   24.0|\n",
            "|50.0|   23.0|\n",
            "|20.0|   20.0|\n",
            "|80.0|   null|\n",
            "|60.0|   25.0|\n",
            "|70.0|   null|\n",
            "|70.0|   21.0|\n",
            "|70.0|   10.0|\n",
            "|20.0|   null|\n",
            "|70.0|   17.0|\n",
            "|70.0|   null|\n",
            "+----+-------+\n",
            "only showing top 20 rows\n",
            "\n"
          ]
        }
      ]
    },
    {
      "cell_type": "markdown",
      "id": "d31e3a87",
      "metadata": {
        "id": "d31e3a87"
      },
      "source": [
        "### Drop the columns\n",
        "[\"patient_id\",\"sex\",\"infected_by\",\"contact_number\",\"released_date\",\"state\",\n",
        "\"symptom_onset_date\",\"confirmed_date\",\"deceased_date\",\"country\",\"no_days\",\n",
        "\"city\",\"infection_case\"]"
      ]
    },
    {
      "cell_type": "code",
      "source": [
        "df = df.drop(\"patient_id\",\"sex\",\"infected_by\",\"contact_number\",\"released_date\",\"state\", \"symptom_onset_date\",\"confirmed_date\",\"deceased_date\",\"country\",\"no_days\", \"city\",\"infection_case\")\n",
        "df.show()"
      ],
      "metadata": {
        "colab": {
          "base_uri": "https://localhost:8080/"
        },
        "id": "5YIYexvrGk8y",
        "outputId": "d11585ce-5ea5-453b-c669-fd3041303bfc"
      },
      "id": "5YIYexvrGk8y",
      "execution_count": null,
      "outputs": [
        {
          "output_type": "stream",
          "name": "stdout",
          "text": [
            "+----+--------+-------+-------+\n",
            "| age|province|is_male|is_dead|\n",
            "+----+--------+-------+-------+\n",
            "|50.0|   Seoul|   true|   true|\n",
            "|30.0|   Seoul|   true|   true|\n",
            "|50.0|   Seoul|   true|   true|\n",
            "|20.0|   Seoul|   true|   true|\n",
            "|20.0|   Seoul|  false|   true|\n",
            "|50.0|   Seoul|  false|   true|\n",
            "|20.0|   Seoul|   true|   true|\n",
            "|20.0|   Seoul|   true|   true|\n",
            "|30.0|   Seoul|   true|   true|\n",
            "|60.0|   Seoul|  false|   true|\n",
            "|50.0|   Seoul|  false|   true|\n",
            "|20.0|   Seoul|   true|   true|\n",
            "|80.0|   Seoul|   true|   true|\n",
            "|60.0|   Seoul|  false|   true|\n",
            "|70.0|   Seoul|   true|   true|\n",
            "|70.0|   Seoul|   true|   true|\n",
            "|70.0|   Seoul|   true|   true|\n",
            "|20.0|   Seoul|   true|   true|\n",
            "|70.0|   Seoul|  false|   true|\n",
            "|70.0|   Seoul|  false|   true|\n",
            "+----+--------+-------+-------+\n",
            "only showing top 20 rows\n",
            "\n"
          ]
        }
      ]
    },
    {
      "cell_type": "markdown",
      "id": "32df47a6",
      "metadata": {
        "id": "32df47a6"
      },
      "source": [
        "### Recount the number of nulls now"
      ]
    },
    {
      "cell_type": "code",
      "execution_count": null,
      "id": "6d66eaa7",
      "metadata": {
        "colab": {
          "base_uri": "https://localhost:8080/"
        },
        "id": "6d66eaa7",
        "outputId": "e8701995-3138-4959-a1a2-12eae3372070"
      },
      "outputs": [
        {
          "output_type": "stream",
          "name": "stdout",
          "text": [
            "+----+--------+-------+-------+\n",
            "| age|province|is_male|is_dead|\n",
            "+----+--------+-------+-------+\n",
            "|1380|       0|      0|      0|\n",
            "+----+--------+-------+-------+\n",
            "\n"
          ]
        }
      ],
      "source": [
        "df.select([count(when(col(c).isNull(), c)).alias(c) for c in df.columns]).show()"
      ]
    },
    {
      "cell_type": "markdown",
      "id": "cc71f158",
      "metadata": {
        "id": "cc71f158"
      },
      "source": [
        "## Now do the same but using SQL select statement"
      ]
    },
    {
      "cell_type": "markdown",
      "id": "1d540282",
      "metadata": {
        "id": "1d540282"
      },
      "source": [
        "### From the original Patient DataFrame, Create a temporary view (table)."
      ]
    },
    {
      "cell_type": "code",
      "source": [
        "df1= spark.read.csv('PatientInfo.csv',header=True,inferSchema=True)"
      ],
      "metadata": {
        "id": "0q5Uq_B1YRT1"
      },
      "id": "0q5Uq_B1YRT1",
      "execution_count": 4,
      "outputs": []
    },
    {
      "cell_type": "code",
      "source": [
        "df1.createGlobalTempView(\"Patients\")"
      ],
      "metadata": {
        "id": "3Tx7VXQEIgHo"
      },
      "id": "3Tx7VXQEIgHo",
      "execution_count": null,
      "outputs": []
    },
    {
      "cell_type": "markdown",
      "id": "cb004277",
      "metadata": {
        "id": "cb004277"
      },
      "source": [
        "### Use SELECT statement to select all columns from the dataframe and show the output."
      ]
    },
    {
      "cell_type": "code",
      "execution_count": 7,
      "id": "12ae8226",
      "metadata": {
        "colab": {
          "base_uri": "https://localhost:8080/"
        },
        "id": "12ae8226",
        "outputId": "c3b043c0-b4eb-491a-94c8-52c10fc45886"
      },
      "outputs": [
        {
          "output_type": "stream",
          "name": "stdout",
          "text": [
            "+----------+------+---+-------+--------+------------+--------------------+-----------+--------------+------------------+-------------------+-------------------+-------------+--------+\n",
            "|patient_id|   sex|age|country|province|        city|      infection_case|infected_by|contact_number|symptom_onset_date|     confirmed_date|      released_date|deceased_date|   state|\n",
            "+----------+------+---+-------+--------+------------+--------------------+-----------+--------------+------------------+-------------------+-------------------+-------------+--------+\n",
            "|1000000001|  male|50s|  Korea|   Seoul|  Gangseo-gu|     overseas inflow|       null|            75|        2020-01-22|2020-01-23 00:00:00|2020-02-05 00:00:00|         null|released|\n",
            "|1000000002|  male|30s|  Korea|   Seoul| Jungnang-gu|     overseas inflow|       null|            31|              null|2020-01-30 00:00:00|2020-03-02 00:00:00|         null|released|\n",
            "|1000000003|  male|50s|  Korea|   Seoul|   Jongno-gu|contact with patient| 2002000001|            17|              null|2020-01-30 00:00:00|2020-02-19 00:00:00|         null|released|\n",
            "|1000000004|  male|20s|  Korea|   Seoul|     Mapo-gu|     overseas inflow|       null|             9|        2020-01-26|2020-01-30 00:00:00|2020-02-15 00:00:00|         null|released|\n",
            "|1000000005|female|20s|  Korea|   Seoul| Seongbuk-gu|contact with patient| 1000000002|             2|              null|2020-01-31 00:00:00|2020-02-24 00:00:00|         null|released|\n",
            "|1000000006|female|50s|  Korea|   Seoul|   Jongno-gu|contact with patient| 1000000003|            43|              null|2020-01-31 00:00:00|2020-02-19 00:00:00|         null|released|\n",
            "|1000000007|  male|20s|  Korea|   Seoul|   Jongno-gu|contact with patient| 1000000003|             0|              null|2020-01-31 00:00:00|2020-02-10 00:00:00|         null|released|\n",
            "|1000000008|  male|20s|  Korea|   Seoul|         etc|     overseas inflow|       null|             0|              null|2020-02-02 00:00:00|2020-02-24 00:00:00|         null|released|\n",
            "|1000000009|  male|30s|  Korea|   Seoul|   Songpa-gu|     overseas inflow|       null|            68|              null|2020-02-05 00:00:00|2020-02-21 00:00:00|         null|released|\n",
            "|1000000010|female|60s|  Korea|   Seoul| Seongbuk-gu|contact with patient| 1000000003|             6|              null|2020-02-05 00:00:00|2020-02-29 00:00:00|         null|released|\n",
            "|1000000011|female|50s|  China|   Seoul|Seodaemun-gu|     overseas inflow|       null|            23|              null|2020-02-06 00:00:00|2020-02-29 00:00:00|         null|released|\n",
            "|1000000012|  male|20s|  Korea|   Seoul|         etc|     overseas inflow|       null|             0|              null|2020-02-07 00:00:00|2020-02-27 00:00:00|         null|released|\n",
            "|1000000013|  male|80s|  Korea|   Seoul|   Jongno-gu|contact with patient| 1000000017|           117|              null|2020-02-16 00:00:00|               null|         null|deceased|\n",
            "|1000000014|female|60s|  Korea|   Seoul|   Jongno-gu|contact with patient| 1000000013|            27|        2020-02-06|2020-02-16 00:00:00|2020-03-12 00:00:00|         null|released|\n",
            "|1000000015|  male|70s|  Korea|   Seoul|Seongdong-gu|    Seongdong-gu APT|       null|             8|        2020-02-11|2020-02-19 00:00:00|               null|         null|released|\n",
            "|1000000016|  male|70s|  Korea|   Seoul|   Jongno-gu|contact with patient| 1000000017|          null|              null|2020-02-19 00:00:00|2020-03-11 00:00:00|         null|released|\n",
            "|1000000017|  male|70s|  Korea|   Seoul|   Jongno-gu|contact with patient| 1000000003|          null|              null|2020-02-20 00:00:00|2020-03-01 00:00:00|         null|released|\n",
            "|1000000018|  male|20s|  Korea|   Seoul|         etc|                 etc|       null|          null|              null|2020-02-20 00:00:00|               null|         null|released|\n",
            "|1000000019|female|70s|  Korea|   Seoul|   Jongno-gu|contact with patient| 1000000021|          null|              null|2020-02-20 00:00:00|2020-03-08 00:00:00|         null|released|\n",
            "|1000000020|female|70s|  Korea|   Seoul|Seongdong-gu|    Seongdong-gu APT| 1000000015|          null|              null|2020-02-20 00:00:00|               null|         null|released|\n",
            "+----------+------+---+-------+--------+------------+--------------------+-----------+--------------+------------------+-------------------+-------------------+-------------+--------+\n",
            "only showing top 20 rows\n",
            "\n"
          ]
        }
      ],
      "source": [
        "spark.sql(\"SELECT * FROM global_temp.Patients\").show()"
      ]
    },
    {
      "cell_type": "markdown",
      "id": "e0da4318",
      "metadata": {
        "id": "e0da4318"
      },
      "source": [
        "### *Using SQL commands*, limit the output to only 5 rows "
      ]
    },
    {
      "cell_type": "code",
      "execution_count": 8,
      "id": "97911bdd",
      "metadata": {
        "colab": {
          "base_uri": "https://localhost:8080/"
        },
        "id": "97911bdd",
        "outputId": "8fb17014-21b5-4f48-e2b6-30f87b46570c"
      },
      "outputs": [
        {
          "output_type": "stream",
          "name": "stdout",
          "text": [
            "+----------+------+---+-------+--------+-----------+--------------------+-----------+--------------+------------------+-------------------+-------------------+-------------+--------+\n",
            "|patient_id|   sex|age|country|province|       city|      infection_case|infected_by|contact_number|symptom_onset_date|     confirmed_date|      released_date|deceased_date|   state|\n",
            "+----------+------+---+-------+--------+-----------+--------------------+-----------+--------------+------------------+-------------------+-------------------+-------------+--------+\n",
            "|1000000001|  male|50s|  Korea|   Seoul| Gangseo-gu|     overseas inflow|       null|            75|        2020-01-22|2020-01-23 00:00:00|2020-02-05 00:00:00|         null|released|\n",
            "|1000000002|  male|30s|  Korea|   Seoul|Jungnang-gu|     overseas inflow|       null|            31|              null|2020-01-30 00:00:00|2020-03-02 00:00:00|         null|released|\n",
            "|1000000003|  male|50s|  Korea|   Seoul|  Jongno-gu|contact with patient| 2002000001|            17|              null|2020-01-30 00:00:00|2020-02-19 00:00:00|         null|released|\n",
            "|1000000004|  male|20s|  Korea|   Seoul|    Mapo-gu|     overseas inflow|       null|             9|        2020-01-26|2020-01-30 00:00:00|2020-02-15 00:00:00|         null|released|\n",
            "|1000000005|female|20s|  Korea|   Seoul|Seongbuk-gu|contact with patient| 1000000002|             2|              null|2020-01-31 00:00:00|2020-02-24 00:00:00|         null|released|\n",
            "+----------+------+---+-------+--------+-----------+--------------------+-----------+--------------+------------------+-------------------+-------------------+-------------+--------+\n",
            "\n"
          ]
        }
      ],
      "source": [
        "spark.sql(\"SELECT * FROM global_temp.Patients LIMIT 5\").show()"
      ]
    },
    {
      "cell_type": "markdown",
      "id": "b70edf17",
      "metadata": {
        "id": "b70edf17"
      },
      "source": [
        "### Select the count of males and females in the dataset"
      ]
    },
    {
      "cell_type": "code",
      "source": [
        "df1.groupBy(\"sex\").count().show()"
      ],
      "metadata": {
        "colab": {
          "base_uri": "https://localhost:8080/"
        },
        "id": "nfvdG_PRaMt7",
        "outputId": "e1354dc2-d9a4-48f3-836b-9345dde5d724"
      },
      "id": "nfvdG_PRaMt7",
      "execution_count": null,
      "outputs": [
        {
          "output_type": "stream",
          "name": "stdout",
          "text": [
            "+------+-----+\n",
            "|   sex|count|\n",
            "+------+-----+\n",
            "|  null| 1122|\n",
            "|female| 2218|\n",
            "|  male| 1825|\n",
            "+------+-----+\n",
            "\n"
          ]
        }
      ]
    },
    {
      "cell_type": "code",
      "source": [
        "spark.sql(\"SELECT sex as sex, count(*) as count from global_temp.Patients group by sex\").show()"
      ],
      "metadata": {
        "colab": {
          "base_uri": "https://localhost:8080/"
        },
        "id": "1jhjRsBdden3",
        "outputId": "e893db97-9848-4986-bdab-fc864ccaccd4"
      },
      "id": "1jhjRsBdden3",
      "execution_count": 9,
      "outputs": [
        {
          "output_type": "stream",
          "name": "stdout",
          "text": [
            "+------+-----+\n",
            "|   sex|count|\n",
            "+------+-----+\n",
            "|  null| 1122|\n",
            "|female| 2218|\n",
            "|  male| 1825|\n",
            "+------+-----+\n",
            "\n"
          ]
        }
      ]
    },
    {
      "cell_type": "markdown",
      "id": "73683674",
      "metadata": {
        "id": "73683674"
      },
      "source": [
        "### How many people did survive, and how many didn't?"
      ]
    },
    {
      "cell_type": "code",
      "execution_count": 10,
      "id": "1e5a3908",
      "metadata": {
        "colab": {
          "base_uri": "https://localhost:8080/"
        },
        "id": "1e5a3908",
        "outputId": "3030a58d-90a8-45e2-c835-c697fe1a2619"
      },
      "outputs": [
        {
          "output_type": "stream",
          "name": "stdout",
          "text": [
            "+--------+-----+\n",
            "|   state|count|\n",
            "+--------+-----+\n",
            "|isolated| 2158|\n",
            "|released| 2929|\n",
            "|deceased|   78|\n",
            "+--------+-----+\n",
            "\n"
          ]
        }
      ],
      "source": [
        "spark.sql(\"SELECT state as state, count(*) as count from global_temp.Patients group by state\").show()"
      ]
    },
    {
      "cell_type": "markdown",
      "id": "d4424228",
      "metadata": {
        "id": "d4424228"
      },
      "source": [
        "### Now, let's perform some preprocessing using SQL:\n",
        "1. Convert *age* column to double after removing the 's' at the end -- *hint: check SUBSTRING method*\n",
        "2. Select only the following columns: `['sex', 'age', 'province', 'state']`\n",
        "3. Store the result of the query in a new dataframe"
      ]
    },
    {
      "cell_type": "code",
      "source": [
        "# col = (\"patient_id\",\"infected_by\",\"contact_number\",\"released_date\",\"state\", \"symptom_onset_date\",\"confirmed_date\",\"deceased_date\",\"country\",\"no_days\", \"city\",\"infection_case\")"
      ],
      "metadata": {
        "id": "uSZ7GKGHOgtX"
      },
      "id": "uSZ7GKGHOgtX",
      "execution_count": null,
      "outputs": []
    },
    {
      "cell_type": "code",
      "execution_count": 42,
      "id": "d3cf4f0f",
      "metadata": {
        "scrolled": true,
        "colab": {
          "base_uri": "https://localhost:8080/"
        },
        "id": "d3cf4f0f",
        "outputId": "d9aa20ba-0a05-4add-8199-27de5cc76d51"
      },
      "outputs": [
        {
          "output_type": "stream",
          "name": "stdout",
          "text": [
            "+------+--------+--------+----+\n",
            "|   sex|province|   state| age|\n",
            "+------+--------+--------+----+\n",
            "|  male|   Seoul|released|50.0|\n",
            "|  male|   Seoul|released|30.0|\n",
            "|  male|   Seoul|released|50.0|\n",
            "|  male|   Seoul|released|20.0|\n",
            "|female|   Seoul|released|20.0|\n",
            "|female|   Seoul|released|50.0|\n",
            "|  male|   Seoul|released|20.0|\n",
            "|  male|   Seoul|released|20.0|\n",
            "|  male|   Seoul|released|30.0|\n",
            "|female|   Seoul|released|60.0|\n",
            "|female|   Seoul|released|50.0|\n",
            "|  male|   Seoul|released|20.0|\n",
            "|  male|   Seoul|deceased|80.0|\n",
            "|female|   Seoul|released|60.0|\n",
            "|  male|   Seoul|released|70.0|\n",
            "|  male|   Seoul|released|70.0|\n",
            "|  male|   Seoul|released|70.0|\n",
            "|  male|   Seoul|released|20.0|\n",
            "|female|   Seoul|released|70.0|\n",
            "|female|   Seoul|released|70.0|\n",
            "+------+--------+--------+----+\n",
            "only showing top 20 rows\n",
            "\n"
          ]
        }
      ],
      "source": [
        "df1 = spark.sql(\"SELECT sex, province, state, Double(substring(age, 1,2)) as age from global_temp.Patients\")\n",
        "df1.show()\n"
      ]
    },
    {
      "cell_type": "markdown",
      "source": [
        ""
      ],
      "metadata": {
        "id": "Pwz36zWbihTn"
      },
      "id": "Pwz36zWbihTn"
    },
    {
      "cell_type": "markdown",
      "id": "d4a24c24",
      "metadata": {
        "id": "d4a24c24"
      },
      "source": [
        "## Machine Learning \n",
        "### Create a pipeline model to predict is_dead and evaluate the performance.\n",
        "- Use <b>StringIndexer</b> to transform <b>string</b> data type to indices.\n",
        "- Use <b>OneHotEncoder</b> to deal with categorical values.\n",
        "- Use <b>Imputer</b> to fill missing data with mean."
      ]
    },
    {
      "cell_type": "code",
      "execution_count": null,
      "id": "7a71806f",
      "metadata": {
        "id": "7a71806f"
      },
      "outputs": [],
      "source": [
        "\n",
        "from pyspark.ml import Pipeline\n",
        "from pyspark.ml.feature import StringIndexer, OneHotEncoder, VectorAssembler\n",
        "from pyspark.ml.regression import LinearRegression "
      ]
    },
    {
      "cell_type": "code",
      "execution_count": null,
      "id": "8544d3c6-c147-4276-8ece-77c047eace0f",
      "metadata": {
        "colab": {
          "base_uri": "https://localhost:8080/"
        },
        "id": "8544d3c6-c147-4276-8ece-77c047eace0f",
        "outputId": "305b6c40-a9d4-41c8-d6ee-707e88b1f281"
      },
      "outputs": [
        {
          "output_type": "execute_result",
          "data": {
            "text/plain": [
              "[StringIndexer_40e8d2bba079, StringIndexer_f189cb421424]"
            ]
          },
          "metadata": {},
          "execution_count": 26
        }
      ],
      "source": [
        "#we want to prepare our features (\"province\",\"is_male\")\n",
        "#A label indexer that maps a string column of labels to an ML column of label indices.\n",
        "# If the input column is numeric, we cast it to string and index the string values.\n",
        "\n",
        "SInd = [StringIndexer(inputCol=c, outputCol=\"{0}_indexed\".format(c))for c in [\"province\",\"is_male\"]]"
      ]
    },
    {
      "cell_type": "code",
      "execution_count": null,
      "id": "df72d162-c095-427e-80ad-0622548bc2f7",
      "metadata": {
        "id": "df72d162-c095-427e-80ad-0622548bc2f7"
      },
      "outputs": [],
      "source": [
        "#A one-hot encoder that maps a column of category indices to a column of binary vectors,\n",
        "# with at most a single one-value per row that indicates the input category index\n",
        "#This is different from scikit-learn's OneHotEncoder, which keeps all categories. The output vectors are sparse\n",
        "encoders = [OneHotEncoder(inputCol=SI.getOutputCol(),outputCol=\"{0}_encoded\".format(SI.getOutputCol())) for SI in SInd]\n"
      ]
    },
    {
      "cell_type": "code",
      "source": [
        "#A feature transformer that merges multiple columns into a vector column\n",
        "assembler = VectorAssembler(inputCols=[encoder.getOutputCol() for encoder in encoders],outputCol=\"features\")"
      ],
      "metadata": {
        "id": "WB6OnjvMQPrb"
      },
      "id": "WB6OnjvMQPrb",
      "execution_count": null,
      "outputs": []
    },
    {
      "cell_type": "code",
      "execution_count": null,
      "id": "3d98fe88-888b-4f47-8da6-4844f8a20886",
      "metadata": {
        "id": "3d98fe88-888b-4f47-8da6-4844f8a20886"
      },
      "outputs": [],
      "source": [
        "lr = LinearRegression(featuresCol='featurs', labelCol = 'label', predictionCol='prediction')"
      ]
    },
    {
      "cell_type": "code",
      "execution_count": null,
      "id": "130dbc01-23b4-4160-926f-6a62eb856576",
      "metadata": {
        "colab": {
          "base_uri": "https://localhost:8080/"
        },
        "id": "130dbc01-23b4-4160-926f-6a62eb856576",
        "outputId": "edf7cf2a-8679-4cc0-dd9b-3332947c37e2"
      },
      "outputs": [
        {
          "output_type": "stream",
          "name": "stdout",
          "text": [
            "+----+--------+-------+-------+----------------+---------------+------------------------+-----------------------+--------------------+\n",
            "| age|province|is_male|is_dead|province_indexed|is_male_indexed|province_indexed_encoded|is_male_indexed_encoded|            features|\n",
            "+----+--------+-------+-------+----------------+---------------+------------------------+-----------------------+--------------------+\n",
            "|50.0|   Seoul|   true|   true|             0.0|            1.0|          (16,[0],[1.0])|              (1,[],[])|      (17,[0],[1.0])|\n",
            "|30.0|   Seoul|   true|   true|             0.0|            1.0|          (16,[0],[1.0])|              (1,[],[])|      (17,[0],[1.0])|\n",
            "|50.0|   Seoul|   true|   true|             0.0|            1.0|          (16,[0],[1.0])|              (1,[],[])|      (17,[0],[1.0])|\n",
            "|20.0|   Seoul|   true|   true|             0.0|            1.0|          (16,[0],[1.0])|              (1,[],[])|      (17,[0],[1.0])|\n",
            "|20.0|   Seoul|  false|   true|             0.0|            0.0|          (16,[0],[1.0])|          (1,[0],[1.0])|(17,[0,16],[1.0,1...|\n",
            "|50.0|   Seoul|  false|   true|             0.0|            0.0|          (16,[0],[1.0])|          (1,[0],[1.0])|(17,[0,16],[1.0,1...|\n",
            "|20.0|   Seoul|   true|   true|             0.0|            1.0|          (16,[0],[1.0])|              (1,[],[])|      (17,[0],[1.0])|\n",
            "|20.0|   Seoul|   true|   true|             0.0|            1.0|          (16,[0],[1.0])|              (1,[],[])|      (17,[0],[1.0])|\n",
            "|30.0|   Seoul|   true|   true|             0.0|            1.0|          (16,[0],[1.0])|              (1,[],[])|      (17,[0],[1.0])|\n",
            "|60.0|   Seoul|  false|   true|             0.0|            0.0|          (16,[0],[1.0])|          (1,[0],[1.0])|(17,[0,16],[1.0,1...|\n",
            "|50.0|   Seoul|  false|   true|             0.0|            0.0|          (16,[0],[1.0])|          (1,[0],[1.0])|(17,[0,16],[1.0,1...|\n",
            "|20.0|   Seoul|   true|   true|             0.0|            1.0|          (16,[0],[1.0])|              (1,[],[])|      (17,[0],[1.0])|\n",
            "|80.0|   Seoul|   true|   true|             0.0|            1.0|          (16,[0],[1.0])|              (1,[],[])|      (17,[0],[1.0])|\n",
            "|60.0|   Seoul|  false|   true|             0.0|            0.0|          (16,[0],[1.0])|          (1,[0],[1.0])|(17,[0,16],[1.0,1...|\n",
            "|70.0|   Seoul|   true|   true|             0.0|            1.0|          (16,[0],[1.0])|              (1,[],[])|      (17,[0],[1.0])|\n",
            "|70.0|   Seoul|   true|   true|             0.0|            1.0|          (16,[0],[1.0])|              (1,[],[])|      (17,[0],[1.0])|\n",
            "|70.0|   Seoul|   true|   true|             0.0|            1.0|          (16,[0],[1.0])|              (1,[],[])|      (17,[0],[1.0])|\n",
            "|20.0|   Seoul|   true|   true|             0.0|            1.0|          (16,[0],[1.0])|              (1,[],[])|      (17,[0],[1.0])|\n",
            "|70.0|   Seoul|  false|   true|             0.0|            0.0|          (16,[0],[1.0])|          (1,[0],[1.0])|(17,[0,16],[1.0,1...|\n",
            "|70.0|   Seoul|  false|   true|             0.0|            0.0|          (16,[0],[1.0])|          (1,[0],[1.0])|(17,[0,16],[1.0,1...|\n",
            "+----+--------+-------+-------+----------------+---------------+------------------------+-----------------------+--------------------+\n",
            "only showing top 20 rows\n",
            "\n"
          ]
        }
      ],
      "source": [
        "pipeline =Pipeline(stages = SInd+encoders+[assembler])\n",
        "pipelineModel = pipeline.fit(df)\n",
        "predDF = pipelineModel.transform(df)\n",
        "predDF.show()\n"
      ]
    },
    {
      "cell_type": "code",
      "source": [
        ""
      ],
      "metadata": {
        "id": "JAhgH7GxSjHI"
      },
      "id": "JAhgH7GxSjHI",
      "execution_count": null,
      "outputs": []
    }
  ],
  "metadata": {
    "kernelspec": {
      "display_name": "Python 3 (ipykernel)",
      "language": "python",
      "name": "python3"
    },
    "language_info": {
      "codemirror_mode": {
        "name": "ipython",
        "version": 3
      },
      "file_extension": ".py",
      "mimetype": "text/x-python",
      "name": "python",
      "nbconvert_exporter": "python",
      "pygments_lexer": "ipython3",
      "version": "3.10.4"
    },
    "colab": {
      "name": "Practical_Day_1_DF_SQL_ML.ipynb",
      "provenance": [],
      "collapsed_sections": []
    }
  },
  "nbformat": 4,
  "nbformat_minor": 5
}